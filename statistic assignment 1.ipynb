{
 "cells": [
  {
   "cell_type": "code",
   "execution_count": 2,
   "id": "5ecc97fe-9505-4d82-8013-25833c624a86",
   "metadata": {},
   "outputs": [],
   "source": [
    "# ANS 1:\n",
    "# \"STATISTICS\" \n",
    "# statistics is the science of collecting , organising and analyzing data"
   ]
  },
  {
   "cell_type": "code",
   "execution_count": 13,
   "id": "433b6057-eb3e-4876-a2b2-1f73f949a9ad",
   "metadata": {},
   "outputs": [],
   "source": [
    "# ANS 2:\n",
    "# types of statistics\n",
    "# 1. infrential statistics\n",
    "# 2. descriptive statistics\n",
    "\n",
    "# Descriptive ststistics \n",
    "# it consists of organizing and summarising data\n",
    "# Measure of central tendency : mean , median , mode\n",
    "# measure of dispersion: variance , standard deviation\n",
    "\n",
    "# Infrential statistics\n",
    "# it consists of using data you have measured to form conclusion\n",
    "# conclusion of population data \n",
    "# z-test , chi-square test , t-test : by this test we can derive the conclusion"
   ]
  },
  {
   "cell_type": "code",
   "execution_count": 4,
   "id": "f38d7bc3-6f72-4838-a92f-6040a5cb529b",
   "metadata": {},
   "outputs": [],
   "source": [
    "# ANS 3:\n",
    "# Types of data :\n",
    "\n",
    "# Quantative:consists of numerical value\n",
    "#   1. discreate data:\n",
    "#           ex: no. of bank accounts , no. of children\n",
    "#   2. continous data:\n",
    "#           ex : height , weight\n",
    "\n",
    "\n",
    "# Qualative: consists  of categorical value\n",
    "#   1.nominal data\n",
    "#       ex: gender , blood group\n",
    "#   2. ordinal data\n",
    "#         ex : cutomer feedback"
   ]
  },
  {
   "cell_type": "code",
   "execution_count": 5,
   "id": "23b74bae-7bbd-400b-8a76-12405c3d6a08",
   "metadata": {},
   "outputs": [],
   "source": [
    "# ANS 4 :\n",
    "# 1. ordinal data\n",
    "# 2. nominal data\n",
    "# 3. continous data\n",
    "# 4. discreate data"
   ]
  },
  {
   "cell_type": "code",
   "execution_count": 6,
   "id": "d3432374-7082-4bef-93fb-ce4adce70c17",
   "metadata": {},
   "outputs": [],
   "source": [
    "# ANS 5:\n",
    "\n",
    "# Nominal scale data:\n",
    "#   1.Qualatative data / categorical data / Nominal data\n",
    "#   2.order does not matter\n",
    "#   example : gender ,color , labels\n",
    "\n",
    "# Ordinal scale data:\n",
    "#   1.Ranking is important\n",
    "#   2.oder matter\n",
    "#   3.difference cannot be measured\n",
    "#    example : customer feedback\n",
    "\n",
    "# Interval scale data\n",
    "#  1.the orders does not matter\n",
    "#  2.difference can be measure\n",
    "#  3.ratio cannot be measured\n",
    "#  4.No true \"0\" starting point\n",
    "#  example : temperature variable\n",
    "\n",
    "# Ratio scale data\n",
    "#  1.orders matter\n",
    "#  2.differences are measurable including ratio\n",
    "#  3.it contains \"0\" starting point\n",
    "#   example : students marks"
   ]
  },
  {
   "cell_type": "code",
   "execution_count": 7,
   "id": "40575c25-957b-43d2-a026-bdd52fe33e11",
   "metadata": {},
   "outputs": [],
   "source": [
    "# ANS 6 :\n",
    "#  it important to understand the level of measurement when analyzing data because \n",
    "#  it hepls to get  statistical measures \n",
    "#  which indirectly hels to get insights the data and accordingly  we can derive conclusions"
   ]
  },
  {
   "cell_type": "code",
   "execution_count": 8,
   "id": "7107dc05-f4ea-447c-b7c5-92df5a083f30",
   "metadata": {},
   "outputs": [],
   "source": [
    "# ANS 7:\n",
    "# both are categorical data but  \n",
    "# in nominal data rank or order does not not matter but in ordinal data order matters"
   ]
  },
  {
   "cell_type": "code",
   "execution_count": 9,
   "id": "20dcf877-9161-4315-a01c-870d86b2cbef",
   "metadata": {},
   "outputs": [],
   "source": [
    "# ANS 8 :\n",
    "# BOX PLOT  is used to display data in terms of range"
   ]
  },
  {
   "cell_type": "code",
   "execution_count": 14,
   "id": "6276c8e9-6639-4c5f-b011-3b9bb9979d93",
   "metadata": {},
   "outputs": [],
   "source": [
    "# ANS 9 :\n",
    "# \" Descriptive ststistics \"\n",
    "# it consists of organizing and summarising data \n",
    "# Measure of central tendency : mean , median , mode\n",
    "# measure of dispersion: variance , standard deviation\n",
    "# example: taking heights and weights of students in the school\n",
    "\n",
    "# \"Infrential statistics\"\n",
    "# it consists of using data you have measured to form conclusion\n",
    "# conclusion of population data \n",
    "# z-test , chi-square test , t-test : by this test we can derive the conclusion\n",
    "# example : are the heights of the students in classroom similar to what you expect in the class to population data"
   ]
  },
  {
   "cell_type": "code",
   "execution_count": 15,
   "id": "ea8aa8d2-ec1e-4185-93a4-60316748a83a",
   "metadata": {},
   "outputs": [],
   "source": [
    "# ANS 10 :\n",
    "\n",
    "# Measure of central tendency : Mean , Median , Mode\n",
    "\n",
    "# Mean = Sum of the values / Number of values\n",
    "# Mean gives particular number which overall describes tendency of  data \n",
    "\n",
    "# Median \n",
    "# Odd Number of Observations then:\n",
    "# n+1/2  , where n is no. of values\n",
    "# even Number of Oberservations then:\n",
    "# (n/2 + n/2 + 1)/2 , where n is no. of values\n",
    "# median gives the central part of the distributed data\n",
    "\n",
    "# Mode\n",
    "# maximum number of times a number occurred  in data\n",
    "# It describes by giving the occurences of data\n",
    "\n",
    "# Measure of dispersion or variablity : variance and standard deviation\n",
    "\n",
    "# Variance \n",
    "# It describes the spread of the data , like how much data is spreaded throughout the distribution\n",
    "\n",
    "# Standard Deviation\n",
    "# It describes by giving the conclusion that how much is distributed with respect to "
   ]
  },
  {
   "cell_type": "code",
   "execution_count": null,
   "id": "64ac878a-0875-423e-a750-535f5510afb9",
   "metadata": {},
   "outputs": [],
   "source": []
  }
 ],
 "metadata": {
  "kernelspec": {
   "display_name": "Python 3 (ipykernel)",
   "language": "python",
   "name": "python3"
  },
  "language_info": {
   "codemirror_mode": {
    "name": "ipython",
    "version": 3
   },
   "file_extension": ".py",
   "mimetype": "text/x-python",
   "name": "python",
   "nbconvert_exporter": "python",
   "pygments_lexer": "ipython3",
   "version": "3.10.8"
  }
 },
 "nbformat": 4,
 "nbformat_minor": 5
}
